{
 "cells": [
  {
   "cell_type": "markdown",
   "id": "6ba1fd13",
   "metadata": {},
   "source": [
    "# Mathmatik and Python "
   ]
  },
  {
   "cell_type": "markdown",
   "id": "23c251d5",
   "metadata": {},
   "source": [
    "### 1.1.1  向量和矩阵"
   ]
  },
  {
   "cell_type": "code",
   "execution_count": 1,
   "id": "789b208b",
   "metadata": {},
   "outputs": [],
   "source": [
    "# Vector and Matrix \n",
    "# package\n",
    "import numpy as np"
   ]
  },
  {
   "cell_type": "code",
   "execution_count": 2,
   "id": "194b7f50",
   "metadata": {},
   "outputs": [],
   "source": [
    "x = np.array([1, 2, 3])\n",
    "# x.__class__  # check the type; return numpy.ndarray\n",
    "# x.shape      # check the shape; return (3,)\n",
    "# x.ndim       # number of the dimensional;  return 1 \n",
    "W = np.array([[1, 2, 3],[4, 5, 6]]) \n"
   ]
  },
  {
   "cell_type": "markdown",
   "id": "9b9f1179",
   "metadata": {},
   "source": [
    "### 1.1.2  矩阵的对应元素的运算"
   ]
  },
  {
   "cell_type": "code",
   "execution_count": 3,
   "id": "13ab7b27",
   "metadata": {},
   "outputs": [
    {
     "data": {
      "text/plain": [
       "array([[ 1,  4,  9],\n",
       "       [ 4, 10, 18]])"
      ]
     },
     "execution_count": 3,
     "metadata": {},
     "output_type": "execute_result"
    }
   ],
   "source": [
    "# plus \n",
    "W + x\n",
    "# mutiply\n",
    "W * x"
   ]
  },
  {
   "cell_type": "markdown",
   "id": "8b39a67f",
   "metadata": {},
   "source": [
    "### 1.1.3 广播"
   ]
  },
  {
   "cell_type": "code",
   "execution_count": 6,
   "id": "f2c4a708",
   "metadata": {},
   "outputs": [
    {
     "data": {
      "text/plain": [
       "array([[10, 20],\n",
       "       [30, 40]])"
      ]
     },
     "execution_count": 6,
     "metadata": {},
     "output_type": "execute_result"
    }
   ],
   "source": [
    "# broadcast\n",
    "A = np.array([[1, 2], [3, 4]])\n",
    "A* 10 "
   ]
  },
  {
   "cell_type": "code",
   "execution_count": 7,
   "id": "d8eefde4",
   "metadata": {},
   "outputs": [
    {
     "data": {
      "text/plain": [
       "array([[10, 40],\n",
       "       [30, 80]])"
      ]
     },
     "execution_count": 7,
     "metadata": {},
     "output_type": "execute_result"
    }
   ],
   "source": [
    "b = np.array([10, 20])\n",
    "A * b"
   ]
  },
  {
   "cell_type": "markdown",
   "id": "62cf6937",
   "metadata": {},
   "source": [
    "### 1.1.4 向量内机和矩阵乘积"
   ]
  },
  {
   "cell_type": "code",
   "execution_count": 3,
   "id": "1104de28",
   "metadata": {},
   "outputs": [
    {
     "data": {
      "text/plain": [
       "32"
      ]
     },
     "execution_count": 3,
     "metadata": {},
     "output_type": "execute_result"
    }
   ],
   "source": [
    "# inneres Produkt\n",
    "a = np.array([1,2,3])\n",
    "b = np.array([4,5,6])\n",
    "np.dot(a, b)"
   ]
  },
  {
   "cell_type": "code",
   "execution_count": 5,
   "id": "01c2ad59",
   "metadata": {},
   "outputs": [
    {
     "data": {
      "text/plain": [
       "array([[19, 22],\n",
       "       [43, 50]])"
      ]
     },
     "execution_count": 5,
     "metadata": {},
     "output_type": "execute_result"
    }
   ],
   "source": [
    "# matrix product\n",
    "A = np.array([[1, 2], [3, 4]])\n",
    "B = np.array([[5, 6], [7, 8]])\n",
    "np.dot(A, B)"
   ]
  }
 ],
 "metadata": {
  "kernelspec": {
   "display_name": "Python 3 (ipykernel)",
   "language": "python",
   "name": "python3"
  },
  "language_info": {
   "codemirror_mode": {
    "name": "ipython",
    "version": 3
   },
   "file_extension": ".py",
   "mimetype": "text/x-python",
   "name": "python",
   "nbconvert_exporter": "python",
   "pygments_lexer": "ipython3",
   "version": "3.9.13"
  },
  "varInspector": {
   "cols": {
    "lenName": 16,
    "lenType": 16,
    "lenVar": 40
   },
   "kernels_config": {
    "python": {
     "delete_cmd_postfix": "",
     "delete_cmd_prefix": "del ",
     "library": "var_list.py",
     "varRefreshCmd": "print(var_dic_list())"
    },
    "r": {
     "delete_cmd_postfix": ") ",
     "delete_cmd_prefix": "rm(",
     "library": "var_list.r",
     "varRefreshCmd": "cat(var_dic_list()) "
    }
   },
   "types_to_exclude": [
    "module",
    "function",
    "builtin_function_or_method",
    "instance",
    "_Feature"
   ],
   "window_display": false
  }
 },
 "nbformat": 4,
 "nbformat_minor": 5
}
