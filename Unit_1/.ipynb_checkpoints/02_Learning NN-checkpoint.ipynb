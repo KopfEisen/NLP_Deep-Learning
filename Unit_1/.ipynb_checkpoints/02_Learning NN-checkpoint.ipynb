{
 "cells": [
  {
   "cell_type": "markdown",
   "id": "2ea7fe57",
   "metadata": {},
   "source": [
    "# 1.3 Neuron Network(Deep Understanding)\n",
    "## 1.3.1 Loss Function\n",
    "- Before Computing the Loss , we need add a softmax layer as output after the Hidden layer.\n",
    "- $ Softmax Function:$   \n",
    "   \n",
    "   $y_k = \\frac{exp(s_k}{\\sum_{i = 1}^{n}exp(s_i)}$\n",
    "- Usually, we use the Cross Entropy Loss Function. \n",
    "    - $ L =  - \\sum_{k} t_k ln(y_k)$\n",
    "- Further under Considering the mini-batch:    \n",
    "    - $ L =  - \\frac{1}{N}\\sum_{n}\\sum_{k} t_nk ln(y_nk)$"
   ]
  },
  {
   "cell_type": "markdown",
   "id": "963e8903",
   "metadata": {},
   "source": [
    "### 1.3.2 Gradient"
   ]
  },
  {
   "cell_type": "markdown",
   "id": "8507781b",
   "metadata": {},
   "source": [
    "### 1.3.3 Chain rule"
   ]
  },
  {
   "cell_type": "markdown",
   "id": "ca081ce0",
   "metadata": {},
   "source": [
    "### 1.3.4 Computational Graph "
   ]
  },
  {
   "cell_type": "code",
   "execution_count": 6,
   "id": "b52e750e",
   "metadata": {},
   "outputs": [],
   "source": [
    "# repeat node for Multipy\n",
    "import numpy as np \n",
    "\n",
    "D, N = 8, 7\n",
    "x = np.random.randn(1, D)      # input \n",
    "y = np.repeat(x, N, axis = 0)  # propagate forward\n",
    "\n",
    "dy = np.random.randn(N, D)     # assumm gradients \n",
    "dx = np.sum(dy, axis=0, keepdims=True) # propagate backward\n",
    "# keepdims: To keep the dimensional not changing.\n",
    "# dx = np.sum(dy, axis = 0)   you can compare two different and using the .shape to know that.\n",
    "\n",
    "\n",
    "# sum node for addition\n",
    "D, N = 8, 7\n",
    "\n",
    "x = np.random.randn(8, 7) \n",
    "y = np.sum(x, axis = 0, keepdims=True)\n",
    "\n",
    "dy = np.random.randn(1, D)\n",
    "dx = np.repeat(dy, N, axis=0)\n",
    "\n"
   ]
  },
  {
   "cell_type": "code",
   "execution_count": 19,
   "id": "29967fcb",
   "metadata": {},
   "outputs": [],
   "source": [
    "# MatMul node for Matrix Multipy\n",
    "\n",
    "class Matmul: \n",
    "    def __init__(self, W):\n",
    "        self.params = [W]\n",
    "        self.grads = [np.zeros_like(W)]  # initial gradients\n",
    "        self.x = None\n",
    "    \n",
    "    def forward(self, x):\n",
    "        W, = self.params\n",
    "        out = np.dot(x, W)\n",
    "        self.x = x \n",
    "        return out\n",
    "    def backward(self, dout):\n",
    "        W, = self.params\n",
    "        dx = np.dot(dout, W.T)\n",
    "        dW = np.dot(self.x.T , dout)\n",
    "        self.grads[0][...] = dW     # read book page 34(image 1-27)\n",
    "                                    # to understand what the difference between shallow copy and  deep copy\n",
    "        return dx "
   ]
  },
  {
   "cell_type": "markdown",
   "id": "95093bb3",
   "metadata": {},
   "source": [
    "### 1.3.6 Derivation of Gradients and Implementation of Backpropagation"
   ]
  },
  {
   "cell_type": "code",
   "execution_count": 22,
   "id": "1cfc211f",
   "metadata": {},
   "outputs": [],
   "source": [
    "# book image 1-28\n",
    "class Sigmoid:\n",
    "    def __init__(self):\n",
    "        self.params = []\n",
    "        self.grads = []\n",
    "        self.out = None\n",
    "    def forward(self, x):\n",
    "        out = 1/ (1 + np.exp(-x))\n",
    "        self.out = out \n",
    "        return out \n",
    "    def backward(self, dout):\n",
    "        dx = dout * (1.0 - self.out) * self.out\n",
    "        return dx"
   ]
  },
  {
   "cell_type": "code",
   "execution_count": 23,
   "id": "d10d3296",
   "metadata": {},
   "outputs": [],
   "source": [
    "# book image 1-29\n",
    "class Affine:\n",
    "    def __init__(self, W, b):\n",
    "        self.params = [W, b]\n",
    "        self.grads = [np.zeros_like(W), np.zeros_like(b)]\n",
    "        self.x = None \n",
    "        \n",
    "    def forward(self, x):\n",
    "        W, b = self.params\n",
    "        out = np.dot(x, W) + b\n",
    "        self.x = x \n",
    "        return out\n",
    "    def backward(self, dout):\n",
    "        W, b = self.params\n",
    "        dx = np.dot(dout, W.T)\n",
    "        dw = np.dot(self.x.T, dout)\n",
    "        db = np.sum(dout, axis=0)\n",
    "        \n",
    "        self.grads[0][...] = dW\n",
    "        self.grads[1][...] = db\n",
    "        \n",
    "        return dx \n",
    "           "
   ]
  },
  {
   "cell_type": "markdown",
   "id": "5ced5c4a",
   "metadata": {},
   "source": [
    "### 1.3.6 Weights update"
   ]
  },
  {
   "cell_type": "code",
   "execution_count": null,
   "id": "312e33e9",
   "metadata": {},
   "outputs": [],
   "source": [
    "class SGD:\n",
    "    def __init__(self, lr = 0.01):\n",
    "        self.lr = lr\n",
    "    def update(self, params, grads):\n",
    "        for i in range(len(params)):\n",
    "            params[i] -= self.lr * grads[i]"
   ]
  }
 ],
 "metadata": {
  "kernelspec": {
   "display_name": "Python 3 (ipykernel)",
   "language": "python",
   "name": "python3"
  },
  "language_info": {
   "codemirror_mode": {
    "name": "ipython",
    "version": 3
   },
   "file_extension": ".py",
   "mimetype": "text/x-python",
   "name": "python",
   "nbconvert_exporter": "python",
   "pygments_lexer": "ipython3",
   "version": "3.9.13"
  }
 },
 "nbformat": 4,
 "nbformat_minor": 5
}
