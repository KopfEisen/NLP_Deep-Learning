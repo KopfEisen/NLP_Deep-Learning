{
 "cells": [
  {
   "cell_type": "markdown",
   "id": "2223680e",
   "metadata": {},
   "source": [
    "# 1.2 Neuron Network\n",
    "In Neuron Network consist of input layer, hidden layer and output layer."
   ]
  },
  {
   "cell_type": "code",
   "execution_count": 29,
   "id": "306ddfb9",
   "metadata": {},
   "outputs": [],
   "source": [
    "import numpy as np\n",
    "import matplotlib.pyplot as plt"
   ]
  },
  {
   "cell_type": "markdown",
   "id": "bbd7ca22",
   "metadata": {},
   "source": [
    "## 1.2.1 Hidden Layer\n",
    "\n",
    "$ h = xW + b$   \n",
    "Input: $x$   \n",
    "Weight: $W$   \n",
    "Bias : $b$  \n",
    "Neurons in hidden layers : $h$"
   ]
  },
  {
   "cell_type": "code",
   "execution_count": 25,
   "id": "6c4af0e2",
   "metadata": {},
   "outputs": [
    {
     "data": {
      "text/plain": [
       "array([[ 3.11682349,  0.92188361, -1.25635871,  0.38099956,  0.78909449],\n",
       "       [ 3.51927995, -1.87062975, -1.17851822,  3.0445436 ,  1.183562  ],\n",
       "       [ 3.43237544, -2.94136739, -2.82893324, -0.70421186, -2.36889458],\n",
       "       [ 2.68162828,  0.39902097, -1.41669396,  1.63207044,  0.46218627],\n",
       "       [ 3.91044204,  0.2575232 , -1.68744468,  2.89664637,  1.58368114],\n",
       "       [ 3.24253514,  1.88845356, -0.53253494, -1.9627949 , -1.81346913],\n",
       "       [ 2.71906988, -1.4097544 , -4.06502571, -0.38200829, -1.22836944],\n",
       "       [ 0.47829805,  0.31044368,  0.64661362,  2.65769757,  1.8125137 ],\n",
       "       [ 0.77130909, -1.83012732, -1.11758078, -1.2210734 , -4.38025657],\n",
       "       [ 3.65615298, -1.31572742, -4.50980916, -3.22157284, -4.92602138]])"
      ]
     },
     "execution_count": 25,
     "metadata": {},
     "output_type": "execute_result"
    }
   ],
   "source": [
    "#build a hidden layer \n",
    "N_1 = 10\n",
    "N_2 = 5\n",
    "N_3 = 5\n",
    "\n",
    "# Understand the matrix's dimensional\n",
    "W1 = np.random.randn(N_2, N_3) \n",
    "b1 = np.random.randn(N_3)\n",
    "x = np.random.randn(N_1, N_2)\n",
    "\n",
    "h = np.dot(x, W1) + b1\n",
    "h"
   ]
  },
  {
   "cell_type": "code",
   "execution_count": 26,
   "id": "b27c32da",
   "metadata": {},
   "outputs": [],
   "source": [
    "# Active function(sigmoid Function)\n",
    "def sigmoid(x):\n",
    "    return 1/(1 + np.exp(-x))"
   ]
  },
  {
   "cell_type": "code",
   "execution_count": 31,
   "id": "9f3e7f8b",
   "metadata": {},
   "outputs": [
    {
     "data": {
      "text/plain": [
       "array([[0.95758139, 0.71542575, 0.22160136, 0.59411416, 0.68763687],\n",
       "       [0.97123139, 0.13346887, 0.23531873, 0.95454637, 0.76558766],\n",
       "       [0.96870117, 0.0501461 , 0.05578056, 0.33087907, 0.0855756 ],\n",
       "       [0.93593383, 0.59845242, 0.19518039, 0.83645307, 0.61353269],\n",
       "       [0.98036174, 0.56402734, 0.15611218, 0.94768041, 0.82972523],\n",
       "       [0.96240395, 0.86857911, 0.36992585, 0.12316489, 0.14021937],\n",
       "       [0.93814258, 0.1962728 , 0.01687296, 0.40564261, 0.22646694],\n",
       "       [0.6173459 , 0.57699356, 0.65624694, 0.93448384, 0.8596654 ],\n",
       "       [0.68380401, 0.13822311, 0.2464603 , 0.22774761, 0.01236728],\n",
       "       [0.97481878, 0.21153002, 0.01088086, 0.03836192, 0.00720305]])"
      ]
     },
     "execution_count": 31,
     "metadata": {},
     "output_type": "execute_result"
    }
   ],
   "source": [
    "a = sigmoid(h)\n",
    "a"
   ]
  },
  {
   "cell_type": "code",
   "execution_count": 39,
   "id": "1adc7c03",
   "metadata": {},
   "outputs": [
    {
     "data": {
      "text/plain": [
       "array([[-0.44565602, -1.61534478, -0.27196843],\n",
       "       [-0.19280041, -1.05201874,  1.67221258],\n",
       "       [-0.4144735 , -1.93864131, -0.15121241],\n",
       "       [-0.26867056, -1.34540693,  0.99443795],\n",
       "       [-0.35049376, -1.29028645,  0.58611642],\n",
       "       [-0.23942683, -1.3082477 ,  1.18826891],\n",
       "       [-0.22906883, -1.57270212,  1.1430994 ],\n",
       "       [-0.29593935, -1.10218419,  1.15092555],\n",
       "       [-0.02746976, -1.03332957,  2.43301579],\n",
       "       [-0.39829131, -2.27607555, -0.41630023]])"
      ]
     },
     "execution_count": 39,
     "metadata": {},
     "output_type": "execute_result"
    }
   ],
   "source": [
    "# Build a compeleted Network \n",
    "# def parameter \n",
    "x = np.random.randn(10, 2)\n",
    "\n",
    "W1 = np.random.randn(2, 4)\n",
    "b1 = np.random.randn(4)\n",
    "\n",
    "W2 = np.random.randn(4, 3)\n",
    "b2 = np.random.randn(3)\n",
    "\n",
    "# def active function \n",
    "def sigmoid(x):\n",
    "    return 1/(1 + np.exp(-x))\n",
    "\n",
    "# first layer \n",
    "h1 = np.dot(x, W1) + b1\n",
    "s = sigmoid(h1)\n",
    "h2 = np.dot(s, W2) + b2\n",
    "\n",
    "h2"
   ]
  },
  {
   "cell_type": "markdown",
   "id": "8b7a2daf",
   "metadata": {},
   "source": [
    "### 1.2.2 层的类化及正向传播的实现\n",
    "- $forward():$ Direction from the input layer to output layer.   \n",
    "- $backward():$ Propagate gradients in the reverse order of forward."
   ]
  },
  {
   "cell_type": "code",
   "execution_count": 58,
   "id": "91e53463",
   "metadata": {},
   "outputs": [],
   "source": [
    "# Class active layer\n",
    "class Sigmoid:\n",
    "    def __init__(self):\n",
    "        self.params = []\n",
    "    def forward(self, x):   # only condsider forward\n",
    "        return 1/(1 + np.exp(-x))\n",
    "\n",
    "# Class Affine layer \n",
    "class Affine:\n",
    "    def __init__(self, W, b):\n",
    "        self.params = [W, b]\n",
    "    def forward(self, x):\n",
    "        W, b = self.params\n",
    "        output = np.dot(x, W) + b\n",
    "        return output    "
   ]
  },
  {
   "cell_type": "markdown",
   "id": "89517cde",
   "metadata": {},
   "source": [
    "#### TwoLayerNet Class"
   ]
  },
  {
   "cell_type": "code",
   "execution_count": 63,
   "id": "da0ab85f",
   "metadata": {},
   "outputs": [],
   "source": [
    "class TwolayerNet:\n",
    "    def __init__(self, input_size, hidden_size, output_size):\n",
    "        I, H, O = input_size, hidden_size, output_size\n",
    "        \n",
    "        # initial weight and bias\n",
    "        W1 = np.random.randn(I, H)\n",
    "        b1 = np.random.randn(H)\n",
    "        W2 = np.random.randn(H, O)\n",
    "        b2 = np.random.randn(O)\n",
    "        \n",
    "        # Hidden Layer \n",
    "        self.layers = [\n",
    "            Affine(W1, b1),\n",
    "            Sigmoid(),\n",
    "            Affine(W2, b2)\n",
    "        ] \n",
    "        \n",
    "        # Put weights in List.\n",
    "        self.params = []\n",
    "        for layer in self.layers:   # contain 3 layers' data from Affine, Sigmoid, Affine\n",
    "            self.params += layer.params\n",
    "        \n",
    "    def predict(self, x):\n",
    "        for layer in self.layers:\n",
    "            x = layer.forward(x)    # call the forword from Class Sigmoid and Affine \n",
    "        return x    "
   ]
  },
  {
   "cell_type": "code",
   "execution_count": 66,
   "id": "5498d28b",
   "metadata": {},
   "outputs": [],
   "source": [
    "# For example to predict \n",
    "x = np.random.randn(10, 2)\n",
    "# Instantiate \n",
    "model = TwolayerNet(2, 4, 3)\n",
    "# Prediction \n",
    "s = model.predict(x)"
   ]
  },
  {
   "cell_type": "code",
   "execution_count": null,
   "id": "ae235559",
   "metadata": {},
   "outputs": [],
   "source": []
  }
 ],
 "metadata": {
  "kernelspec": {
   "display_name": "Python 3 (ipykernel)",
   "language": "python",
   "name": "python3"
  },
  "language_info": {
   "codemirror_mode": {
    "name": "ipython",
    "version": 3
   },
   "file_extension": ".py",
   "mimetype": "text/x-python",
   "name": "python",
   "nbconvert_exporter": "python",
   "pygments_lexer": "ipython3",
   "version": "3.9.13"
  }
 },
 "nbformat": 4,
 "nbformat_minor": 5
}
