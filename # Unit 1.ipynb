{
 "cells": [
  {
   "cell_type": "markdown",
   "id": "6ba1fd13",
   "metadata": {},
   "source": [
    "# Mathmatik and Python "
   ]
  },
  {
   "cell_type": "markdown",
   "id": "23c251d5",
   "metadata": {},
   "source": [
    "### 1.1.1  向量和矩阵"
   ]
  },
  {
   "cell_type": "code",
   "execution_count": 2,
   "id": "789b208b",
   "metadata": {},
   "outputs": [],
   "source": [
    "# Vector and Matrix \n",
    "# package\n",
    "import numpy as np"
   ]
  },
  {
   "cell_type": "code",
   "execution_count": 12,
   "id": "194b7f50",
   "metadata": {},
   "outputs": [],
   "source": [
    "x = np.array([1, 2, 3])\n",
    "# x.__class__  # check the type; return numpy.ndarray\n",
    "# x.shape      # check the shape; return (3,)\n",
    "# x.ndim       # number of the dimensional;  return 1 \n",
    "W = np.array([[1, 2, 3],[4, 5, 6]]) \n"
   ]
  },
  {
   "cell_type": "markdown",
   "id": "9b9f1179",
   "metadata": {},
   "source": [
    "### 1.1.2  矩阵的对应元素的运算"
   ]
  },
  {
   "cell_type": "code",
   "execution_count": 14,
   "id": "13ab7b27",
   "metadata": {},
   "outputs": [
    {
     "data": {
      "text/plain": [
       "array([[2, 4, 6],\n",
       "       [5, 7, 9]])"
      ]
     },
     "execution_count": 14,
     "metadata": {},
     "output_type": "execute_result"
    }
   ],
   "source": [
    "# plus \n",
    "W+x\n"
   ]
  },
  {
   "cell_type": "code",
   "execution_count": null,
   "id": "7464975d",
   "metadata": {},
   "outputs": [],
   "source": []
  }
 ],
 "metadata": {
  "kernelspec": {
   "display_name": "Python 3 (ipykernel)",
   "language": "python",
   "name": "python3"
  },
  "language_info": {
   "codemirror_mode": {
    "name": "ipython",
    "version": 3
   },
   "file_extension": ".py",
   "mimetype": "text/x-python",
   "name": "python",
   "nbconvert_exporter": "python",
   "pygments_lexer": "ipython3",
   "version": "3.9.13"
  },
  "varInspector": {
   "cols": {
    "lenName": 16,
    "lenType": 16,
    "lenVar": 40
   },
   "kernels_config": {
    "python": {
     "delete_cmd_postfix": "",
     "delete_cmd_prefix": "del ",
     "library": "var_list.py",
     "varRefreshCmd": "print(var_dic_list())"
    },
    "r": {
     "delete_cmd_postfix": ") ",
     "delete_cmd_prefix": "rm(",
     "library": "var_list.r",
     "varRefreshCmd": "cat(var_dic_list()) "
    }
   },
   "types_to_exclude": [
    "module",
    "function",
    "builtin_function_or_method",
    "instance",
    "_Feature"
   ],
   "window_display": false
  }
 },
 "nbformat": 4,
 "nbformat_minor": 5
}
